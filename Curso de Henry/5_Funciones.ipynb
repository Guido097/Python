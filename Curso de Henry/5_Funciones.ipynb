{
 "cells": [
  {
   "attachments": {},
   "cell_type": "markdown",
   "metadata": {},
   "source": [
    "1-Crear una función que reciba un número como parámetro y devuelva si True si es primo y False si no lo es"
   ]
  },
  {
   "cell_type": "code",
   "execution_count": 2,
   "metadata": {},
   "outputs": [],
   "source": [
    "def funcion1(num):\n",
    "    if type(num) != int or num < 1:\n",
    "        return \"No es un entero paper, a pedido del PM, gato\"\n",
    "    es_primo = True\n",
    "    for i in range(2, num):\n",
    "        if (num % i == 0):\n",
    "            es_primo = False\n",
    "    return es_primo\n"
   ]
  },
  {
   "cell_type": "code",
   "execution_count": 3,
   "metadata": {},
   "outputs": [
    {
     "data": {
      "text/plain": [
       "'No es un entero paper, a pedido del PM, gato'"
      ]
     },
     "execution_count": 3,
     "metadata": {},
     "output_type": "execute_result"
    }
   ],
   "source": [
    "funcion1(0.5)"
   ]
  },
  {
   "cell_type": "code",
   "execution_count": 4,
   "metadata": {},
   "outputs": [
    {
     "name": "stdout",
     "output_type": "stream",
     "text": [
      "False <class 'bool'>\n"
     ]
    }
   ],
   "source": [
    "prueba = funcion1(95)\n",
    "print(prueba, type(prueba))\n"
   ]
  },
  {
   "attachments": {},
   "cell_type": "markdown",
   "metadata": {},
   "source": [
    "2-Utilizando la función del punto 1, realizar otra función que reciba de parámetro una lista de números y devuelva sólo aquellos que son primos en otra lista"
   ]
  },
  {
   "cell_type": "code",
   "execution_count": 5,
   "metadata": {},
   "outputs": [],
   "source": [
    "def funcion2(lista):\n",
    "    #if type(num) != int or num < 1:\n",
    "    #    return \"No es un entero paper, a pedido del PM, gato\"\n",
    "    listaprimos = []\n",
    "    for elemento in lista:\n",
    "        es_primo = funcion1(elemento)\n",
    "#         es_primo = True\n",
    "#         for i in range(2, elemento):\n",
    "#            if (elemento % i == 0):\n",
    "#                es_primo = False\n",
    "        if es_primo:\n",
    "            listaprimos.append(elemento)\n",
    "    return listaprimos\n"
   ]
  },
  {
   "cell_type": "code",
   "execution_count": 6,
   "metadata": {},
   "outputs": [
    {
     "data": {
      "text/plain": [
       "[2, 7, 13, 29, 31, 47]"
      ]
     },
     "execution_count": 6,
     "metadata": {},
     "output_type": "execute_result"
    }
   ],
   "source": [
    "funcion2([2,4,7,13,16,25,29,31,47])"
   ]
  },
  {
   "attachments": {},
   "cell_type": "markdown",
   "metadata": {},
   "source": [
    "3-Crear una función que al recibir una lista de números, devuelva el que más se repite y cuántas veces lo hace. Si hay más de un \"más repetido\", que devuelva cualquiera"
   ]
  },
  {
   "cell_type": "code",
   "execution_count": 7,
   "metadata": {},
   "outputs": [],
   "source": [
    "def funcion3(listnum):\n",
    "    repetido = 0\n",
    "    mayor = 0\n",
    "    for nro in listnum:\n",
    "        cantidad = listnum.count(nro)\n",
    "        if cantidad > mayor:\n",
    "            mayor = cantidad\n",
    "            repetido = nro\n",
    "    return \"El nro mas repetido es el \", repetido ,\", que se repitio \",mayor,\"veces.\""
   ]
  },
  {
   "cell_type": "code",
   "execution_count": 8,
   "metadata": {},
   "outputs": [
    {
     "data": {
      "text/plain": [
       "('El nro mas repetido es el ', 4, ', que se repitio ', 6, 'veces.')"
      ]
     },
     "execution_count": 8,
     "metadata": {},
     "output_type": "execute_result"
    }
   ],
   "source": [
    "funcion3([1,3,4,6,4,6,8,3,4,4,4,4])"
   ]
  },
  {
   "attachments": {},
   "cell_type": "markdown",
   "metadata": {},
   "source": [
    "4-A la función del punto 3, agregar un parámetro más, que permita elegir si se requiere el menor o el mayor de los mas repetidos."
   ]
  },
  {
   "cell_type": "code",
   "execution_count": 9,
   "metadata": {},
   "outputs": [],
   "source": [
    "def funcion4(lis2num, minmax):\n",
    "    repetido = 0\n",
    "    mayor = 0\n",
    "    menor = 70000000000\n",
    "    for nro in lis2num:\n",
    "        cantidad = lis2num.count(nro)\n",
    "#        if  menor == 0:\n",
    "#            cantidad = menor\n",
    "#            menosrepetido = nro\n",
    "        if cantidad > mayor:\n",
    "            mayor = cantidad\n",
    "            repetido = nro\n",
    "        elif cantidad < menor:\n",
    "            menor = cantidad\n",
    "            menosrepetido = nro\n",
    "    if minmax == 'min':\n",
    "        return 'El nro menos repetido es el ', menosrepetido,'que se repitio ', menor,'veces.'\n",
    "    if minmax == 'max':\n",
    "        return \"El nro mas repetido es el \", repetido ,\", que se repitio \",mayor,\"veces.\"\n",
    "    else:\n",
    "        return 'Esta mal el parametro'"
   ]
  },
  {
   "cell_type": "code",
   "execution_count": 10,
   "metadata": {},
   "outputs": [
    {
     "data": {
      "text/plain": [
       "('El nro menos repetido es el ', 54, 'que se repitio ', 1, 'veces.')"
      ]
     },
     "execution_count": 10,
     "metadata": {},
     "output_type": "execute_result"
    }
   ],
   "source": [
    "funcion4([3,54,6,8,5,4,3,3,4,7,8,56,45,4,4,6,7],'min')"
   ]
  },
  {
   "attachments": {},
   "cell_type": "markdown",
   "metadata": {},
   "source": [
    "5-Crear una función que convierta entre grados Celsius, Farenheit y Kelvin\n",
    "Fórmula 1 : (°C × 9/5) + 32 = °F\n",
    "Fórmula 2 : °C + 273.15 = °K\n",
    "Debe recibir 3 parámetros: el valor, la medida de orígen y la medida de destino"
   ]
  },
  {
   "cell_type": "code",
   "execution_count": 11,
   "metadata": {},
   "outputs": [],
   "source": [
    "def funciontemp(grados, origen, destino):\n",
    "    c = float(grados)\n",
    "    if origen != 'Celsius':\n",
    "        if origen == 'Kelvin':\n",
    "            c = c - 273.15\n",
    "        elif origen == 'Farenheit':\n",
    "            c = (c - 32) / (9/5)\n",
    "    if destino == 'Farenheit':\n",
    "        resultado = c*9/5 + 32\n",
    "    elif destino == 'Kelvin':\n",
    "        resultado = c + 273.15\n",
    "    else:\n",
    "        resultado = c\n",
    "    return resultado"
   ]
  },
  {
   "cell_type": "code",
   "execution_count": 12,
   "metadata": {},
   "outputs": [
    {
     "data": {
      "text/plain": [
       "273.15"
      ]
     },
     "execution_count": 12,
     "metadata": {},
     "output_type": "execute_result"
    }
   ],
   "source": [
    "funciontemp(32, 'Farenheit', 'Kelvin')"
   ]
  },
  {
   "cell_type": "code",
   "execution_count": 16,
   "metadata": {},
   "outputs": [
    {
     "name": "stdout",
     "output_type": "stream",
     "text": [
      "1 grado Celsius a Celsius: 1.0\n",
      "1 grado Celsius a Kelvin: 274.15\n",
      "1 grado Celsius a Farenheit: 33.8\n",
      "1 grado Kelvin a Celsius: -272.15\n",
      "1 grado Kelvin a Kelvin: 1.0\n",
      "1 grado Kelvin a Farenheit: -457.87\n",
      "1 grado Farenheit a Celsius: -17.22222222222222\n",
      "1 grado Farenheit a Kelvin: 255.92777777777775\n",
      "1 grado Farenheit a Farenheit: 1.0\n"
     ]
    }
   ],
   "source": [
    "print('1 grado Celsius a Celsius:', funciontemp(1, 'Celsius', 'Celsius'))\n",
    "print('1 grado Celsius a Kelvin:', funciontemp(1, 'Celsius', 'Kelvin'))\n",
    "print('1 grado Celsius a Farenheit:', funciontemp(1, 'Celsius', 'Farenheit'))\n",
    "print('1 grado Kelvin a Celsius:', funciontemp(1, 'Kelvin', 'Celsius'))\n",
    "print('1 grado Kelvin a Kelvin:', funciontemp(1, 'Kelvin', 'Kelvin'))\n",
    "print('1 grado Kelvin a Farenheit:', funciontemp(1, 'Kelvin', 'Farenheit'))\n",
    "print('1 grado Farenheit a Celsius:', funciontemp(1, 'Farenheit', 'Celsius'))\n",
    "print('1 grado Farenheit a Kelvin:', funciontemp(1, 'Farenheit', 'Kelvin'))\n",
    "print('1 grado Farenheit a Farenheit:', funciontemp(1, 'Farenheit', 'Farenheit'))"
   ]
  },
  {
   "attachments": {},
   "cell_type": "markdown",
   "metadata": {},
   "source": [
    "6-Iterando una lista con los tres valores posibles de temperatura que recibe la función del punto 5, hacer un print para cada combinación de los mismos:"
   ]
  },
  {
   "cell_type": "code",
   "execution_count": 19,
   "metadata": {},
   "outputs": [
    {
     "name": "stdout",
     "output_type": "stream",
     "text": [
      "1 grado Celsius a Celsius : 1.0\n",
      "1 grado Celsius a Kelvin : 274.15\n",
      "1 grado Celsius a Farenheit : 33.8\n",
      "1 grado Kelvin a Celsius : -272.15\n",
      "1 grado Kelvin a Kelvin : 1.0\n",
      "1 grado Kelvin a Farenheit : -457.87\n",
      "1 grado Farenheit a Celsius : -17.22222222222222\n",
      "1 grado Farenheit a Kelvin : 255.92777777777775\n",
      "1 grado Farenheit a Farenheit : 1.0\n"
     ]
    }
   ],
   "source": [
    "metricas = ['Celsius','Kelvin','Farenheit']\n",
    "for i in range(0,3):\n",
    "    for j in range(0,3):\n",
    "        print('1 grado', metricas[i], 'a', metricas[j],':', funciontemp(1, metricas[i], metricas[j]))"
   ]
  },
  {
   "attachments": {},
   "cell_type": "markdown",
   "metadata": {},
   "source": [
    "7-Armar una función que devuelva el factorial de un número. Tener en cuenta que el usuario puede equivocarse y enviar de parámetro un número no entero o negativo\n",
    "\n"
   ]
  },
  {
   "cell_type": "code",
   "execution_count": 21,
   "metadata": {},
   "outputs": [
    {
     "name": "stdout",
     "output_type": "stream",
     "text": [
      "6\n",
      "El numero debe ser positivo\n",
      "El numero debe ser un entero\n",
      "El numero debe ser un entero\n"
     ]
    }
   ],
   "source": [
    "def factorial(numero):\n",
    "    if(type(numero) != int):\n",
    "        return 'El numero debe ser un entero'\n",
    "    if(numero < 0):\n",
    "        return 'El numero debe ser positivo'\n",
    "    if (numero > 1):\n",
    "        numero = numero * factorial(numero - 1)\n",
    "    return numero\n",
    "print(factorial(3))\n",
    "print(factorial(-2))\n",
    "print(factorial(1.23))\n",
    "print(factorial('6'))"
   ]
  }
 ],
 "metadata": {
  "kernelspec": {
   "display_name": "Python 3",
   "language": "python",
   "name": "python3"
  },
  "language_info": {
   "codemirror_mode": {
    "name": "ipython",
    "version": 3
   },
   "file_extension": ".py",
   "mimetype": "text/x-python",
   "name": "python",
   "nbconvert_exporter": "python",
   "pygments_lexer": "ipython3",
   "version": "3.10.7"
  },
  "orig_nbformat": 4
 },
 "nbformat": 4,
 "nbformat_minor": 2
}
