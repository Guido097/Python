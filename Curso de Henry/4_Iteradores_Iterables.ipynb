{
 "cells": [
  {
   "attachments": {},
   "cell_type": "markdown",
   "metadata": {},
   "source": [
    "1-A partir de una lista vacía, utilizar un ciclo while para cargar allí números negativos del -15 al -1"
   ]
  },
  {
   "cell_type": "code",
   "execution_count": 10,
   "metadata": {},
   "outputs": [
    {
     "name": "stdout",
     "output_type": "stream",
     "text": [
      "[-15, -14, -13, -12, -11, -10, -9, -8, -7, -6, -5, -4, -3, -2, -1]\n"
     ]
    }
   ],
   "source": [
    "lista_vacia = []\n",
    "numero = -15\n",
    "while (numero < 0):\n",
    "    lista_vacia.append(numero)\n",
    "    numero += 1\n",
    "\n",
    "print(lista_vacia)\n"
   ]
  },
  {
   "attachments": {},
   "cell_type": "markdown",
   "metadata": {},
   "source": [
    "2-¿Con un ciclo while sería posible recorrer la lista para imprimir sólo los números pares?\n",
    "\n"
   ]
  },
  {
   "cell_type": "code",
   "execution_count": 11,
   "metadata": {},
   "outputs": [
    {
     "name": "stdout",
     "output_type": "stream",
     "text": [
      "-14\n",
      "-12\n",
      "-10\n",
      "-8\n",
      "-6\n",
      "-4\n",
      "-2\n"
     ]
    }
   ],
   "source": [
    "lista = [-15, -14, -13, -12, -11, -10, -9, -8, -7, -6, -5, -4, -3, -2, -1]\n",
    "indice = 0\n",
    "\n",
    "while indice < len(lista_vacia):\n",
    "    if lista[indice] % 2 == 0:\n",
    "        print(lista_vacia[indice])\n",
    "    indice += 1\n"
   ]
  },
  {
   "attachments": {},
   "cell_type": "markdown",
   "metadata": {},
   "source": [
    "3-Resolver el punto anterior sin utilizar un ciclo while\n",
    "\n"
   ]
  },
  {
   "cell_type": "code",
   "execution_count": 12,
   "metadata": {},
   "outputs": [
    {
     "name": "stdout",
     "output_type": "stream",
     "text": [
      "-14\n",
      "-12\n",
      "-10\n",
      "-8\n",
      "-6\n",
      "-4\n",
      "-2\n"
     ]
    }
   ],
   "source": [
    "for numero in lista_vacia:\n",
    "    if numero % 2 == 0:\n",
    "        print(numero)\n"
   ]
  },
  {
   "attachments": {},
   "cell_type": "markdown",
   "metadata": {},
   "source": [
    "4-Utilizar el iterable para recorrer sólo los primeros 3 elementos\n",
    "\n"
   ]
  },
  {
   "cell_type": "code",
   "execution_count": 15,
   "metadata": {},
   "outputs": [
    {
     "data": {
      "text/plain": [
       "[-15, -14, -13, -12, -11, -10, -9, -8, -7, -6, -5, -4, -3, -2, -1]"
      ]
     },
     "execution_count": 15,
     "metadata": {},
     "output_type": "execute_result"
    }
   ],
   "source": [
    "lista_vacia"
   ]
  },
  {
   "cell_type": "code",
   "execution_count": 40,
   "metadata": {},
   "outputs": [
    {
     "name": "stdout",
     "output_type": "stream",
     "text": [
      "-14\n"
     ]
    }
   ],
   "source": [
    "for indice in range(3):\n",
    "    numero = lista_vacia[indice]\n",
    "    if numero % 2 == 0:\n",
    "        print(numero)\n"
   ]
  },
  {
   "attachments": {},
   "cell_type": "markdown",
   "metadata": {},
   "source": [
    "5-Utilizar la función enumerate para obtener dentro del iterable, tambien el índice al que corresponde el elemento\n",
    "\n"
   ]
  },
  {
   "cell_type": "code",
   "execution_count": 41,
   "metadata": {},
   "outputs": [
    {
     "name": "stdout",
     "output_type": "stream",
     "text": [
      "0 -15\n",
      "1 -14\n",
      "2 -13\n",
      "3 -12\n",
      "4 -11\n",
      "5 -10\n",
      "6 -9\n",
      "7 -8\n",
      "8 -7\n",
      "9 -6\n",
      "10 -5\n",
      "11 -4\n",
      "12 -3\n",
      "13 -2\n",
      "14 -1\n"
     ]
    }
   ],
   "source": [
    "for i, c in enumerate(lista_vacia):\n",
    "    print(i, c)"
   ]
  },
  {
   "attachments": {},
   "cell_type": "markdown",
   "metadata": {},
   "source": [
    "6-Dada la siguiente lista de números enteros entre 1 y 20, crear un ciclo donde se completen los valores faltantes: lista = [1,2,5,7,8,10,13,14,15,17,20]"
   ]
  },
  {
   "cell_type": "code",
   "execution_count": 43,
   "metadata": {},
   "outputs": [
    {
     "name": "stdout",
     "output_type": "stream",
     "text": [
      "[1, 2, 3, 4, 5, 6, 7, 8, 9, 10, 11, 12, 13, 14, 15, 16, 17, 18, 19, 20]\n"
     ]
    }
   ],
   "source": [
    "listaincompleta = [1,2,5,7,8,10,13,14,15,17,20]\n",
    "completa = list(range(1,21))\n",
    "\n",
    "for numero in completa:\n",
    "    if numero not in listaincompleta:\n",
    "        listaincompleta.append(numero)\n",
    "\n",
    "listaincompleta.sort()\n",
    "print(listaincompleta)\n"
   ]
  },
  {
   "attachments": {},
   "cell_type": "markdown",
   "metadata": {},
   "source": [
    "7-La sucesión de Fibonacci es un listado de números que sigue la fórmula:\n",
    "  n0 = 0\n",
    "  n1 = 1\n",
    "  ni = ni-1 + ni-2\n",
    "  Crear una lista con los primeros treinta números de la sucesión."
   ]
  },
  {
   "cell_type": "code",
   "execution_count": 44,
   "metadata": {},
   "outputs": [
    {
     "name": "stdout",
     "output_type": "stream",
     "text": [
      "[0, 1, 1, 2, 3, 5, 8, 13, 21, 34, 55, 89, 144, 233, 377, 610, 987, 1597, 2584, 4181, 6765, 10946, 17711, 28657, 46368, 75025, 121393, 196418, 317811, 514229]\n"
     ]
    }
   ],
   "source": [
    "fibonacci = [0, 1]  # Inicializamos la lista con los dos primeros números de la sucesión\n",
    "\n",
    "for i in range(2, 30):\n",
    "    # Calculamos el siguiente número de la sucesión utilizando la fórmula ni = ni-1 + ni-2\n",
    "    siguiente_numero = fibonacci[i-1] + fibonacci[i-2]\n",
    "    fibonacci.append(siguiente_numero)  # Agregamos el número a la lista\n",
    "\n",
    "print(fibonacci)\n"
   ]
  },
  {
   "attachments": {},
   "cell_type": "markdown",
   "metadata": {},
   "source": [
    "8-Realizar la suma de todos elementos de la lista del punto anterior\n",
    "\n"
   ]
  },
  {
   "cell_type": "code",
   "execution_count": 49,
   "metadata": {},
   "outputs": [
    {
     "data": {
      "text/plain": [
       "1346268"
      ]
     },
     "execution_count": 49,
     "metadata": {},
     "output_type": "execute_result"
    }
   ],
   "source": [
    "sum(fibonacci)\n"
   ]
  },
  {
   "attachments": {},
   "cell_type": "markdown",
   "metadata": {},
   "source": [
    "9-La proporción aurea se expresa con una proporción matemática que nace el número irracional Phi= 1,618… que los griegos llamaron número áureo. El cuál se puede aproximar con la sucesión de Fibonacci. Con la lista del ejercicio anterior, imprimir el cociente de los últimos 5 pares de dos números contiguos:\n",
    "Donde i es la cantidad total de elementos\n",
    "ni-1 / ni\n",
    "ni-2 / ni-1\n",
    "ni-3 / ni-2\n",
    "ni-4 / ni-3\n",
    "ni-5 / ni-4"
   ]
  },
  {
   "cell_type": "code",
   "execution_count": 50,
   "metadata": {},
   "outputs": [
    {
     "name": "stdout",
     "output_type": "stream",
     "text": [
      "[0.6180339887482036, 0.6180339887543226, 0.618033988738303, 0.6180339887802427, 0.6180339886704432]\n"
     ]
    }
   ],
   "source": [
    "fibonacci = [0, 1]  # Inicializamos la lista con los dos primeros números de la sucesión\n",
    "\n",
    "for i in range(2, 30):\n",
    "    # Calculamos el siguiente número de la sucesión utilizando la fórmula ni = ni-1 + ni-2\n",
    "    siguiente_numero = fibonacci[i-1] + fibonacci[i-2]\n",
    "    fibonacci.append(siguiente_numero)  # Agregamos el número a la lista\n",
    "\n",
    "# Calculamos el cociente de los últimos 5 pares de números contiguos\n",
    "cocientes = [fibonacci[-2]/fibonacci[-1], fibonacci[-3]/fibonacci[-2], fibonacci[-4]/fibonacci[-3], fibonacci[-5]/fibonacci[-4], fibonacci[-6]/fibonacci[-5]]\n",
    "\n",
    "# Imprimimos los cocientes\n",
    "print(cocientes)\n",
    "    "
   ]
  },
  {
   "cell_type": "markdown",
   "metadata": {},
   "source": []
  },
  {
   "cell_type": "code",
   "execution_count": 52,
   "metadata": {},
   "outputs": [
    {
     "data": {
      "text/plain": [
       "30"
      ]
     },
     "execution_count": 52,
     "metadata": {},
     "output_type": "execute_result"
    }
   ],
   "source": [
    "len(fibonacci)"
   ]
  },
  {
   "cell_type": "code",
   "execution_count": 54,
   "metadata": {},
   "outputs": [
    {
     "name": "stdout",
     "output_type": "stream",
     "text": [
      "1.618033988957902\n",
      "1.6180339886704431\n",
      "1.6180339887802426\n",
      "1.618033988738303\n",
      "1.6180339887543225\n"
     ]
    }
   ],
   "source": [
    "total = len(fibonacci)\n",
    "n = total - 5\n",
    "while n < total :\n",
    "    print(fibonacci[n] / fibonacci[n-1] )\n",
    "    n += 1\n",
    "\n",
    "#ni-1 / ni\n",
    "#ni-2 / ni-1\n",
    "#ni-3 / ni-2\n",
    "#ni-4 / ni-3\n",
    "#ni-5 / ni-4"
   ]
  },
  {
   "cell_type": "code",
   "execution_count": 55,
   "metadata": {},
   "outputs": [
    {
     "name": "stdout",
     "output_type": "stream",
     "text": [
      "75025\n"
     ]
    }
   ],
   "source": [
    "print(fibonacci[-5])"
   ]
  },
  {
   "cell_type": "code",
   "execution_count": 64,
   "metadata": {},
   "outputs": [
    {
     "name": "stdout",
     "output_type": "stream",
     "text": [
      "1.618033988957902\n",
      "1.6180339886704431\n",
      "1.6180339887802426\n",
      "1.618033988738303\n",
      "1.6180339887543225\n"
     ]
    }
   ],
   "source": [
    "for n in range(-5,0): print(fibonacci[n]/fibonacci[n-1])\n",
    "    #print(fibonacci[n]/fibonacci[n-1])"
   ]
  },
  {
   "cell_type": "code",
   "execution_count": 67,
   "metadata": {},
   "outputs": [
    {
     "name": "stdout",
     "output_type": "stream",
     "text": [
      "29\n",
      "1.6180339887543225\n",
      "28\n",
      "1.618033988738303\n",
      "27\n",
      "1.6180339887802426\n",
      "26\n",
      "1.6180339886704431\n",
      "25\n",
      "1.618033988957902\n"
     ]
    }
   ],
   "source": [
    "#fibonacci = [1, 1]\n",
    "#for i in range(2, 30):\n",
    "#    fibonacci.append(fibonacci[i-1] + fibonacci[i-2])\n",
    "\n",
    "n = len(fibonacci)\n",
    "\n",
    "for i in range(n-1, n-6, -1):\n",
    "    print(i)\n",
    "    print(fibonacci[i] / fibonacci[i-1])\n"
   ]
  },
  {
   "cell_type": "code",
   "execution_count": 85,
   "metadata": {},
   "outputs": [
    {
     "name": "stdout",
     "output_type": "stream",
     "text": [
      "[-1, -6, -11, -16, -21, -26]\n",
      "[-1, -5, -9, -13, -17, -21, -25, -29]\n",
      "[-1, -4, -7, -10, -13, -16, -19, -22, -25, -28]\n",
      "[-1, -3, -5, -7, -9, -11, -13, -15, -17, -19, -21, -23, -25, -27, -29]\n",
      "[-1, -2, -3, -4, -5, -6, -7, -8, -9, -10, -11, -12, -13, -14, -15, -16, -17, -18, -19, -20, -21, -22, -23, -24, -25, -26, -27, -28, -29, -30]\n",
      "[]\n",
      "[1, 2, 3, 4, 5, 6, 7, 8, 9, 10, 11, 12, 13, 14, 15, 16, 17, 18, 19, 20, 21, 22, 23, 24, 25, 26, 27, 28, 29, 30]\n",
      "[1, 3, 5, 7, 9, 11, 13, 15, 17, 19, 21, 23, 25, 27, 29]\n",
      "[1, 4, 7, 10, 13, 16, 19, 22, 25, 28]\n",
      "[1, 5, 9, 13, 17, 21, 25, 29]\n"
     ]
    }
   ],
   "source": [
    "for i in range(-5,5):\n",
    "    l = []\n",
    "    try:\n",
    "         for n in range(-1,-31, i) or range(1,31, i): l.append(n)\n",
    "    except: SyntaxError\n",
    "    print(l)"
   ]
  },
  {
   "cell_type": "code",
   "execution_count": 90,
   "metadata": {},
   "outputs": [
    {
     "data": {
      "image/png": "[encoded data removed]",
      "text/plain": [
       "<Figure size 640x480 with 1 Axes>"
      ]
     },
     "metadata": {},
     "output_type": "display_data"
    }
   ],
   "source": [
    "import matplotlib.pyplot as plt\n",
    "\n",
    "# lista de valores\n",
    "#listas = [\n",
    "#          [-1, -3, -5, -7, -9, -11, -13, -15, -17, -19, -21, -23, -25, -27, -29, 0, 1, 3, 5, 7, 9, 11, 13, 15, 17, 19, 21, 23, 25, 27, 29]\n",
    "#        ]\n",
    "lista = [-1, -3, -5, -7, -9, -11, -13, -15, -17, -19, -21, -23, -25, -27, -29, 0, 1, 3, 5, 7, 9, 11, 13, 15, 17, 19, 21, 23, 25, 27, 29]\n",
    "lista.sort()\n",
    "# graficar cada lista\n",
    "#for lista in listas:\n",
    "plt.plot(lista)\n",
    "\n",
    "# mostrar gráfico\n",
    "plt.show()\n"
   ]
  },
  {
   "attachments": {},
   "cell_type": "markdown",
   "metadata": {},
   "source": [
    "10-A partir de la variable cadena ya dada, mostrar en qué posiciones aparece la letra \"n\"\n",
    "cadena = 'Hola Mundo. Esto es una practica del lenguaje de programación Python'"
   ]
  },
  {
   "cell_type": "code",
   "execution_count": 100,
   "metadata": {},
   "outputs": [
    {
     "name": "stdout",
     "output_type": "stream",
     "text": [
      "8 n\n",
      "22 n\n",
      "40 n\n",
      "61 n\n",
      "68 n\n"
     ]
    }
   ],
   "source": [
    "cadena = 'Hola Mundo. Esto es una practica del lenguaje de programación Python'\n",
    "for i, c in enumerate(cadena):\n",
    "    while c == 'n':\n",
    "        print(i + 1, c)\n",
    "        break"
   ]
  },
  {
   "attachments": {},
   "cell_type": "markdown",
   "metadata": {},
   "source": [
    "11-Crear un diccionario e imprimir sus claves utilizando un iterador\n",
    "\n"
   ]
  },
  {
   "cell_type": "code",
   "execution_count": 108,
   "metadata": {},
   "outputs": [
    {
     "name": "stdout",
     "output_type": "stream",
     "text": [
      "Ciudades\n",
      "Paises\n"
     ]
    }
   ],
   "source": [
    "ciudades = ['boston','chicago','Phoenix','Cordoba','Jesus Maria','Santa Fe']\n",
    "pais = ['Argentina','Brasil','Chile']\n",
    "dicc = {\"Ciudades\": ciudades,\n",
    "     \"Paises\": pais}\n",
    "for i in dicc: print(i)"
   ]
  },
  {
   "attachments": {},
   "cell_type": "markdown",
   "metadata": {},
   "source": [
    "12-Convertir en una lista la variable \"cadena\" del punto 10 y luego recorrerla con un iterador\n",
    "\n"
   ]
  },
  {
   "cell_type": "code",
   "execution_count": 113,
   "metadata": {},
   "outputs": [
    {
     "name": "stdout",
     "output_type": "stream",
     "text": [
      "['H', 'o', 'l', 'a', ' ', 'M', 'u', 'n', 'd', 'o', '.', ' ', 'E', 's', 't', 'o', ' ', 'e', 's', ' ', 'u', 'n', 'a', ' ', 'p', 'r', 'a', 'c', 't', 'i', 'c', 'a', ' ', 'd', 'e', 'l', ' ', 'l', 'e', 'n', 'g', 'u', 'a', 'j', 'e', ' ', 'd', 'e', ' ', 'p', 'r', 'o', 'g', 'r', 'a', 'm', 'a', 'c', 'i', 'ó', 'n', ' ', 'P', 'y', 't', 'h', 'o', 'n']\n",
      "H\n",
      "o\n",
      "l\n",
      "a\n",
      " \n",
      "M\n",
      "u\n",
      "n\n",
      "d\n",
      "o\n",
      ".\n",
      " \n",
      "E\n",
      "s\n",
      "t\n",
      "o\n",
      " \n",
      "e\n",
      "s\n",
      " \n",
      "u\n",
      "n\n",
      "a\n",
      " \n",
      "p\n",
      "r\n",
      "a\n",
      "c\n",
      "t\n",
      "i\n",
      "c\n",
      "a\n",
      " \n",
      "d\n",
      "e\n",
      "l\n",
      " \n",
      "l\n",
      "e\n",
      "n\n",
      "g\n",
      "u\n",
      "a\n",
      "j\n",
      "e\n",
      " \n",
      "d\n",
      "e\n",
      " \n",
      "p\n",
      "r\n",
      "o\n",
      "g\n",
      "r\n",
      "a\n",
      "m\n",
      "a\n",
      "c\n",
      "i\n",
      "ó\n",
      "n\n",
      " \n",
      "P\n",
      "y\n",
      "t\n",
      "h\n",
      "o\n",
      "n\n"
     ]
    }
   ],
   "source": [
    "cadena = list(cadena)\n",
    "print(cadena)\n",
    "largo = len(cadena)\n",
    "recorre = iter(cadena)\n",
    "for i in range(0,largo):\n",
    "    print(next(recorre))"
   ]
  },
  {
   "attachments": {},
   "cell_type": "markdown",
   "metadata": {},
   "source": [
    "13-Crear dos listas y unirlas en una tupla utilizando la función zip\n"
   ]
  },
  {
   "cell_type": "code",
   "execution_count": 115,
   "metadata": {},
   "outputs": [
    {
     "name": "stdout",
     "output_type": "stream",
     "text": [
      "[('pipi', 'aire acond'), ('lupita', 'cortina'), ('tele', 'sillon')]\n"
     ]
    }
   ],
   "source": [
    "lista1 = ['pipi','lupita','tele']\n",
    "lista2 = ['aire acond','cortina','sillon']\n",
    "listalarga = zip(lista1,lista2)\n",
    "print(list(listalarga))"
   ]
  },
  {
   "attachments": {},
   "cell_type": "markdown",
   "metadata": {},
   "source": [
    "14-A partir de la siguiente lista de números, crear una nueva sólo si el número es divisible por 7\n",
    "    lis = [18,21,29,32,35,42,56,60,63,71,84,90,91,100]\n",
    "\n"
   ]
  },
  {
   "cell_type": "code",
   "execution_count": 117,
   "metadata": {},
   "outputs": [
    {
     "name": "stdout",
     "output_type": "stream",
     "text": [
      "[21, 35, 42, 56, 63, 84, 91]\n"
     ]
    }
   ],
   "source": [
    "lis = [18,21,29,32,35,42,56,60,63,71,84,90,91,100]\n",
    "lis7 = []\n",
    "for n in lis:\n",
    "    if n % 7 ==  0:\n",
    "        lis7.append(n)\n",
    "    else:\n",
    "        continue\n",
    "print(lis7)"
   ]
  },
  {
   "attachments": {},
   "cell_type": "markdown",
   "metadata": {},
   "source": [
    "15-A partir de la lista de a continuación, contar la cantidad total de elementos que contiene, teniendo en cuenta que un elemento de la lista podría ser otra lista:\n",
    "lis = [[1,2,3,4],'rojo','verde',[True,False,False],['uno','dos','tres']]"
   ]
  },
  {
   "cell_type": "code",
   "execution_count": 119,
   "metadata": {},
   "outputs": [
    {
     "name": "stdout",
     "output_type": "stream",
     "text": [
      "0 [1, 2, 3, 4]\n",
      "1 rojo\n",
      "2 verde\n",
      "3 [True, False, False]\n",
      "4 ['uno', 'dos', 'tres']\n",
      "La cantidad de elementos es:  12\n"
     ]
    }
   ],
   "source": [
    "lis = [[1,2,3,4],'rojo','verde',[True,False,False],['uno','dos','tres']]\n",
    "for i, c in enumerate(lis):\n",
    "    print(i, c)\n",
    "\n",
    "cantidad = 0\n",
    "for elemento in lis:\n",
    "    if type(elemento) == list :\n",
    "        cantidad += len(elemento)\n",
    "    else:\n",
    "        cantidad += 1\n",
    "print('La cantidad de elementos es: ', cantidad)"
   ]
  },
  {
   "attachments": {},
   "cell_type": "markdown",
   "metadata": {},
   "source": [
    "16-Tomar la lista del punto anterior y convertir cada elemento en una lista si no lo es\n"
   ]
  },
  {
   "cell_type": "code",
   "execution_count": 124,
   "metadata": {},
   "outputs": [
    {
     "name": "stdout",
     "output_type": "stream",
     "text": [
      "[[1, 2, 3, 4], ['rojo'], ['verde'], [True, False, False], ['uno', 'dos', 'tres']]\n"
     ]
    }
   ],
   "source": [
    "for indice, elemento in enumerate(lis):\n",
    "    if (type(elemento) != list):\n",
    "        lis[indice]=[elemento]\n",
    "print(lis)"
   ]
  }
 ],
 "metadata": {
  "kernelspec": {
   "display_name": "Python 3",
   "language": "python",
   "name": "python3"
  },
  "language_info": {
   "codemirror_mode": {
    "name": "ipython",
    "version": 3
   },
   "file_extension": ".py",
   "mimetype": "text/x-python",
   "name": "python",
   "nbconvert_exporter": "python",
   "pygments_lexer": "ipython3",
   "version": "3.10.7"
  },
  "orig_nbformat": 4
 },
 "nbformat": 4,
 "nbformat_minor": 2
}
