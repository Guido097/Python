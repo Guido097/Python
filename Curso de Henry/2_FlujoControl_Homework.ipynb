{
 "cells": [
  {
   "cell_type": "markdown",
   "metadata": {},
   "source": [
    "Ej. 1\n",
    "-Crear una variable que contenga un elemento del conjunto de números enteros y luego imprimir por pantalla si es mayor o menor a cero"
   ]
  },
  {
   "cell_type": "code",
   "execution_count": 3,
   "metadata": {},
   "outputs": [
    {
     "name": "stdout",
     "output_type": "stream",
     "text": [
      "Variable mayor a 0\n"
     ]
    }
   ],
   "source": [
    "variable = 5\n",
    "if (variable < 0):\n",
    "    print('Variable menor a 0')\n",
    "elif (variable > 0 ):\n",
    "    print('Variable mayor a 0')"
   ]
  },
  {
   "cell_type": "markdown",
   "metadata": {},
   "source": [
    "Ej. 2\n",
    "-Crear dos variables y un condicional que informe si son del mismo tipo de dato"
   ]
  },
  {
   "cell_type": "code",
   "execution_count": 7,
   "metadata": {},
   "outputs": [
    {
     "name": "stdout",
     "output_type": "stream",
     "text": [
      "Las variables no son del mismo tipo\n"
     ]
    }
   ],
   "source": [
    "var1 = 10\n",
    "var2 = 'Messi'\n",
    "if (type(var1) == type(var2)):\n",
    "    print('Las variables son del mismo tipo')\n",
    "elif (type(var1) != type(var2)):\n",
    "    print('Las variables no son del mismo tipo')"
   ]
  },
  {
   "cell_type": "markdown",
   "metadata": {},
   "source": [
    "Ej. 3\n",
    "-Para los valores enteros del 1 al 20, imprimir por pantalla si es par o impar"
   ]
  },
  {
   "cell_type": "code",
   "execution_count": 17,
   "metadata": {},
   "outputs": [
    {
     "name": "stdout",
     "output_type": "stream",
     "text": [
      "1\n",
      "No es par\n",
      "2\n",
      "Es par\n",
      "3\n",
      "No es par\n",
      "4\n",
      "Es par\n",
      "5\n",
      "No es par\n",
      "6\n",
      "Es par\n",
      "7\n",
      "No es par\n",
      "8\n",
      "Es par\n",
      "9\n",
      "No es par\n",
      "10\n",
      "Es par\n",
      "11\n",
      "No es par\n",
      "12\n",
      "Es par\n",
      "13\n",
      "No es par\n",
      "14\n",
      "Es par\n",
      "15\n",
      "No es par\n",
      "16\n",
      "Es par\n",
      "17\n",
      "No es par\n",
      "18\n",
      "Es par\n",
      "19\n",
      "No es par\n",
      "20\n",
      "Es par\n"
     ]
    }
   ],
   "source": [
    "for n in range(1,21):\n",
    "    if(n % 2 == 0):\n",
    "        print(n)\n",
    "        print('Es par') \n",
    "    elif(n % 2 != 0):\n",
    "        print(n)\n",
    "        print('No es par')"
   ]
  },
  {
   "cell_type": "markdown",
   "metadata": {},
   "source": [
    "Ej. 4\n",
    "-En un ciclo for mostrar para los valores entre 0 y 5 el resultado de elevarlo a la potencia igual a 3"
   ]
  },
  {
   "cell_type": "code",
   "execution_count": 21,
   "metadata": {},
   "outputs": [
    {
     "name": "stdout",
     "output_type": "stream",
     "text": [
      "1\n",
      "8\n",
      "27\n",
      "64\n"
     ]
    }
   ],
   "source": [
    "for n in range(1,5):\n",
    "    print(n **3)"
   ]
  },
  {
   "cell_type": "markdown",
   "metadata": {},
   "source": [
    "Ej. 5\n",
    "-Crear una variable que contenga un número entero y realizar un ciclo for la misma cantidad de ciclos"
   ]
  },
  {
   "cell_type": "code",
   "execution_count": 23,
   "metadata": {},
   "outputs": [
    {
     "name": "stdout",
     "output_type": "stream",
     "text": [
      "0\n",
      "1\n",
      "2\n"
     ]
    }
   ],
   "source": [
    "v = 3\n",
    "for n in range(v):\n",
    "    print(n)"
   ]
  },
  {
   "cell_type": "markdown",
   "metadata": {},
   "source": [
    "Ej. 6\n",
    "-Utilizar un ciclo while para realizar el factoreo de un número guardado en una variable, sólo si la variable contiene un número entero mayor a 0"
   ]
  },
  {
   "cell_type": "code",
   "execution_count": null,
   "metadata": {},
   "outputs": [],
   "source": [
    "vfact = 5",
    "while (vfact>0):\n",
    "    print(vfact)\n",
    "    print('es mayor a 0')"
   ]
  }
 ],
 "metadata": {
  "kernelspec": {
   "display_name": "Python 3.10.7 64-bit",
   "language": "python",
   "name": "python3"
  },
  "language_info": {
   "codemirror_mode": {
    "name": "ipython",
    "version": 3
   },
   "file_extension": ".py",
   "mimetype": "text/x-python",
   "name": "python",
   "nbconvert_exporter": "python",
   "pygments_lexer": "ipython3",
   "version": "3.10.7"
  },
  "orig_nbformat": 4,
  "vscode": {
   "interpreter": {
    "hash": "036c2200d9a9bb649c754637305aee5ee72c7b80cf4b652fcf35163ef0735521"
   }
  }
 },
 "nbformat": 4,
 "nbformat_minor": 2
}
