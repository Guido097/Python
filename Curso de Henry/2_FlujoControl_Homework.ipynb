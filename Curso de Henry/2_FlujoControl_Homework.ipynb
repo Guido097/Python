{
 "cells": [
  {
   "cell_type": "markdown",
   "metadata": {},
   "source": [
    "Ej. 1\n",
    "-Crear una variable que contenga un elemento del conjunto de números enteros y luego imprimir por pantalla si es mayor o menor a cero"
   ]
  },
  {
   "cell_type": "code",
   "execution_count": 3,
   "metadata": {},
   "outputs": [
    {
     "name": "stdout",
     "output_type": "stream",
     "text": [
      "Variable mayor a 0\n"
     ]
    }
   ],
   "source": [
    "variable = 5\n",
    "if (variable < 0):\n",
    "    print('Variable menor a 0')\n",
    "elif (variable > 0 ):\n",
    "    print('Variable mayor a 0')"
   ]
  },
  {
   "cell_type": "markdown",
   "metadata": {},
   "source": [
    "Ej. 2\n",
    "-Crear dos variables y un condicional que informe si son del mismo tipo de dato"
   ]
  },
  {
   "cell_type": "code",
   "execution_count": 7,
   "metadata": {},
   "outputs": [
    {
     "name": "stdout",
     "output_type": "stream",
     "text": [
      "Las variables no son del mismo tipo\n"
     ]
    }
   ],
   "source": [
    "var1 = 10\n",
    "var2 = 'Messi'\n",
    "if (type(var1) == type(var2)):\n",
    "    print('Las variables son del mismo tipo')\n",
    "elif (type(var1) != type(var2)):\n",
    "    print('Las variables no son del mismo tipo')"
   ]
  },
  {
   "cell_type": "markdown",
   "metadata": {},
   "source": [
    "Ej. 3\n",
    "-Para los valores enteros del 1 al 20, imprimir por pantalla si es par o impar"
   ]
  },
  {
   "cell_type": "code",
   "execution_count": 17,
   "metadata": {},
   "outputs": [
    {
     "name": "stdout",
     "output_type": "stream",
     "text": [
      "1\n",
      "No es par\n",
      "2\n",
      "Es par\n",
      "3\n",
      "No es par\n",
      "4\n",
      "Es par\n",
      "5\n",
      "No es par\n",
      "6\n",
      "Es par\n",
      "7\n",
      "No es par\n",
      "8\n",
      "Es par\n",
      "9\n",
      "No es par\n",
      "10\n",
      "Es par\n",
      "11\n",
      "No es par\n",
      "12\n",
      "Es par\n",
      "13\n",
      "No es par\n",
      "14\n",
      "Es par\n",
      "15\n",
      "No es par\n",
      "16\n",
      "Es par\n",
      "17\n",
      "No es par\n",
      "18\n",
      "Es par\n",
      "19\n",
      "No es par\n",
      "20\n",
      "Es par\n"
     ]
    }
   ],
   "source": [
    "for n in range(1,21):\n",
    "    if(n % 2 == 0):\n",
    "        print(n)\n",
    "        print('Es par') \n",
    "    elif(n % 2 != 0):\n",
    "        print(n)\n",
    "        print('No es par')"
   ]
  },
  {
   "cell_type": "markdown",
   "metadata": {},
   "source": [
    "Ej. 4\n",
    "-En un ciclo for mostrar para los valores entre 0 y 5 el resultado de elevarlo a la potencia igual a 3"
   ]
  },
  {
   "cell_type": "code",
   "execution_count": 21,
   "metadata": {},
   "outputs": [
    {
     "name": "stdout",
     "output_type": "stream",
     "text": [
      "1\n",
      "8\n",
      "27\n",
      "64\n"
     ]
    }
   ],
   "source": [
    "for n in range(1,5):\n",
    "    print(n **3)"
   ]
  },
  {
   "cell_type": "markdown",
   "metadata": {},
   "source": [
    "Ej. 5\n",
    "-Crear una variable que contenga un número entero y realizar un ciclo for la misma cantidad de ciclos"
   ]
  },
  {
   "cell_type": "code",
   "execution_count": 23,
   "metadata": {},
   "outputs": [
    {
     "name": "stdout",
     "output_type": "stream",
     "text": [
      "0\n",
      "1\n",
      "2\n"
     ]
    }
   ],
   "source": [
    "v = 3\n",
    "for n in range(v):\n",
    "    print(n)"
   ]
  },
  {
   "cell_type": "markdown",
   "metadata": {},
   "source": [
    "Ej. 6\n",
    "-Utilizar un ciclo while para realizar el factoreo de un número guardado en una variable, sólo si la variable contiene un número entero mayor a 0"
   ]
  },
  {
   "cell_type": "code",
   "execution_count": 9,
   "metadata": {},
   "outputs": [],
   "source": [
    "a = 6"
   ]
  },
  {
   "cell_type": "code",
   "execution_count": null,
   "metadata": {},
   "outputs": [],
   "source": []
  },
  {
   "cell_type": "code",
   "execution_count": 12,
   "metadata": {},
   "outputs": [
    {
     "name": "stdout",
     "output_type": "stream",
     "text": [
      "el factorial de  6  es  6\n",
      "el factorial de  5  es  30\n",
      "el factorial de  4  es  120\n",
      "el factorial de  3  es  360\n",
      "el factorial de  2  es  720\n"
     ]
    }
   ],
   "source": [
    "factorial = 1\n",
    "n = 6\n",
    "if (type(n) == int) :\n",
    "    if (n > 0) :\n",
    "        while(n > 1):\n",
    "            factorial = factorial * n\n",
    "            print('el factorial de ', n , ' es ' ,factorial)\n",
    "            n-=1\n",
    "    else:\n",
    "        print('la variable tiene que ser mayor a cero')\n",
    "else:\n",
    "    print('La variable tiene que ser un entero')"
   ]
  },
  {
   "cell_type": "markdown",
   "metadata": {},
   "source": [
    "Ej. 7 -Crear un ciclo for dentro de un ciclo while"
   ]
  },
  {
   "cell_type": "code",
   "execution_count": 3,
   "metadata": {},
   "outputs": [
    {
     "name": "stdout",
     "output_type": "stream",
     "text": [
      "1\n",
      "2\n",
      "3\n",
      "4\n",
      "5\n",
      "6\n",
      "7\n",
      "8\n",
      "9\n"
     ]
    }
   ],
   "source": [
    "Num = 1\n",
    "while Num == 1:\n",
    "    for n in range(1,10):\n",
    "        print(n)\n",
    "        Num = Num + 1\n"
   ]
  },
  {
   "attachments": {},
   "cell_type": "markdown",
   "metadata": {},
   "source": [
    "EJ. 8 -Crear un ciclo while dentro de un ciclo for"
   ]
  },
  {
   "cell_type": "code",
   "execution_count": 16,
   "metadata": {},
   "outputs": [],
   "source": [
    "n = 5\n",
    "for i in range(1, n):\n",
    "    while(n < 5):\n",
    "        n -= 1\n",
    "        print('Ciclo while nro' + str(n))\n",
    "        print('Ciclo for nro' + str(i))"
   ]
  },
  {
   "attachments": {},
   "cell_type": "markdown",
   "metadata": {},
   "source": [
    "Ej. 9 -Imprimir los números primos existentes entre 0 y 30"
   ]
  },
  {
   "cell_type": "code",
   "execution_count": 1,
   "metadata": {},
   "outputs": [
    {
     "name": "stdout",
     "output_type": "stream",
     "text": [
      "0 Es primo\n",
      "1 Es primo\n",
      "2 Es primo\n",
      "3 Es primo\n",
      "4 No es primo\n",
      "5 Es primo\n",
      "6 No es primo\n",
      "7 Es primo\n",
      "8 No es primo\n",
      "9 No es primo\n",
      "10 No es primo\n",
      "11 Es primo\n",
      "12 No es primo\n",
      "13 Es primo\n",
      "14 No es primo\n",
      "15 No es primo\n",
      "16 No es primo\n",
      "17 Es primo\n",
      "18 No es primo\n",
      "19 Es primo\n",
      "20 No es primo\n",
      "21 No es primo\n",
      "22 No es primo\n",
      "23 Es primo\n",
      "24 No es primo\n",
      "25 No es primo\n",
      "26 No es primo\n",
      "27 No es primo\n",
      "28 No es primo\n",
      "29 Es primo\n",
      "30 No es primo\n"
     ]
    }
   ],
   "source": [
    "for nro in range(0, 31):\n",
    "    es_primo = True\n",
    "    for i in range(2,nro):\n",
    "        if (nro % i == 0):\n",
    "            es_primo = False\n",
    "    if (es_primo):\n",
    "        print(nro, 'Es primo')\n",
    "    else:\n",
    "        print(nro, 'No es primo')"
   ]
  },
  {
   "attachments": {},
   "cell_type": "markdown",
   "metadata": {},
   "source": [
    "10 - ¿Se puede mejorar el proceso del punto 9? Utilizar las sentencias break y/ó continue para tal fin"
   ]
  },
  {
   "cell_type": "code",
   "execution_count": 5,
   "metadata": {},
   "outputs": [
    {
     "name": "stdout",
     "output_type": "stream",
     "text": [
      "El nro 0 es primo\n",
      "El nro 1 es primo\n",
      "El nro 2 es primo\n",
      "El nro 3 es primo\n",
      "El nro 5 es primo\n",
      "El nro 7 es primo\n",
      "El nro 11 es primo\n",
      "El nro 13 es primo\n",
      "El nro 17 es primo\n",
      "El nro 19 es primo\n",
      "El nro 23 es primo\n",
      "El nro 29 es primo\n"
     ]
    }
   ],
   "source": [
    "for nro in range(0, 31):\n",
    "    es_primo = True\n",
    "    for i in range(2,nro):\n",
    "        if (nro % i == 0):\n",
    "            es_primo = False\n",
    "            break\n",
    "    if (es_primo):\n",
    "        print('El nro',nro, 'es primo')"
   ]
  },
  {
   "attachments": {},
   "cell_type": "markdown",
   "metadata": {},
   "source": [
    "11 - En los puntos 9 y 10, se diseño un código que encuentra números primos y además se lo optimizó. ¿Es posible saber en qué medida se optimizó?"
   ]
  },
  {
   "cell_type": "code",
   "execution_count": 13,
   "metadata": {},
   "outputs": [
    {
     "name": "stdout",
     "output_type": "stream",
     "text": [
      "Se optimizo el codigo de manera que se realizan 271 menos con la sentencia break\n"
     ]
    }
   ],
   "source": [
    "cantidad_ciclos = 0\n",
    "primos_i = 0\n",
    "for nro in range(0, 31):\n",
    "    es_primo = True\n",
    "    for i in range(2,nro):\n",
    "        cantidad_ciclos += 1\n",
    "        if (nro % i == 0):\n",
    "            es_primo = False\n",
    "            break\n",
    "    if (es_primo):\n",
    "        primos_i += 1\n",
    "        #print('El nro',nro, 'es primo')\n",
    "#print('Se generaron =', cantidad_ciclos)\n",
    "\n",
    "cantidad_ciclos_ii = 0\n",
    "primos_ii = 0\n",
    "for nro in range(0, 31):\n",
    "    es_primo = True\n",
    "    for i in range(2,nro):\n",
    "        cantidad_ciclos_ii += 1\n",
    "        if (nro % i == 0):\n",
    "            es_primo = False\n",
    "            \n",
    "    if (es_primo):\n",
    "        primos_ii += 1\n",
    "\n",
    "#print('Mientras que sin el brake se generaban = ', cantidad_ciclos_ii)\n",
    "mejora = cantidad_ciclos_ii - cantidad_ciclos\n",
    "#print('Se optimizo el codigo de manera que se realizan', mejora, 'menos con la sentencia break')"
   ]
  },
  {
   "attachments": {},
   "cell_type": "markdown",
   "metadata": {},
   "source": [
    "12 - Si la cantidad de números que se evalúa es mayor a treinta, esa optimización crece?"
   ]
  },
  {
   "cell_type": "code",
   "execution_count": 16,
   "metadata": {},
   "outputs": [],
   "source": [
    "cantidad_ciclos = 0\n",
    "primos_i = 0\n",
    "for nro in range(0, 31):\n",
    "    es_primo = True\n",
    "    for i in range(2,nro):\n",
    "        cantidad_ciclos += 1\n",
    "        if (nro % i == 0):\n",
    "            es_primo = False\n",
    "            break\n",
    "    if (es_primo):\n",
    "        primos_i += 1\n",
    "        #print('El nro',nro, 'es primo')\n",
    "#print('Se generaron =', cantidad_ciclos)\n",
    "\n",
    "cantidad_ciclos_ii = 0\n",
    "primos_ii = 0\n",
    "for nro in range(0, 31):\n",
    "    es_primo = True\n",
    "    for i in range(2,nro):\n",
    "        cantidad_ciclos_ii += 1\n",
    "        if (nro % i == 0):\n",
    "            es_primo = False\n",
    "            \n",
    "    if (es_primo):\n",
    "        primos_ii += 1\n",
    "\n",
    "#print('Mientras que sin el brake se generaban = ', cantidad_ciclos_ii)\n",
    "mejora = cantidad_ciclos_ii - cantidad_ciclos\n",
    "#print('Se optimizo el codigo de manera que se realizan', mejora, 'menos con la sentencia break')"
   ]
  },
  {
   "cell_type": "code",
   "execution_count": 17,
   "metadata": {},
   "outputs": [
    {
     "name": "stdout",
     "output_type": "stream",
     "text": [
      "A medida que el rango de numeros es mayor se optimiza en mayor medida la cantidad de ciclos\n"
     ]
    }
   ],
   "source": [
    "cantidad_ciclos = 0\n",
    "primos_i = 0\n",
    "for nro in range(0, 51):\n",
    "    es_primo = True\n",
    "    for i in range(2,nro):\n",
    "        cantidad_ciclos += 1\n",
    "        if (nro % i == 0):\n",
    "            es_primo = False\n",
    "            break\n",
    "    if (es_primo):\n",
    "        primos_i += 1\n",
    "        #print('El nro',nro, 'es primo')\n",
    "#print('Se generaron =', cantidad_ciclos)\n",
    "\n",
    "cantidad_ciclos_ii = 0\n",
    "primos_ii = 0\n",
    "for nro in range(0, 51):\n",
    "    es_primo = True\n",
    "    for i in range(2,nro):\n",
    "        cantidad_ciclos_ii += 1\n",
    "        if (nro % i == 0):\n",
    "            es_primo = False\n",
    "            \n",
    "    if (es_primo):\n",
    "        primos_ii += 1\n",
    "\n",
    "#print('Mientras que sin el brake se generaban = ', cantidad_ciclos_ii)\n",
    "mejora_ii = cantidad_ciclos_ii - cantidad_ciclos\n",
    "#print('Se optimizo el codigo de manera que se realizan', mejora, 'menos con la sentencia break')\n",
    "if (mejora<mejora_ii):\n",
    "    print('A medida que el rango de numeros es mayor se optimiza en mayor medida la cantidad de ciclos')"
   ]
  },
  {
   "attachments": {},
   "cell_type": "markdown",
   "metadata": {},
   "source": [
    "13 - Aplicando continue, armar un ciclo while que solo imprima los valores divisibles por 12, dentro del rango de números de 100 a 300"
   ]
  },
  {
   "cell_type": "code",
   "execution_count": 18,
   "metadata": {},
   "outputs": [
    {
     "name": "stdout",
     "output_type": "stream",
     "text": [
      "108 es divisible por 12\n",
      "120 es divisible por 12\n",
      "132 es divisible por 12\n",
      "144 es divisible por 12\n",
      "156 es divisible por 12\n",
      "168 es divisible por 12\n",
      "180 es divisible por 12\n",
      "192 es divisible por 12\n",
      "204 es divisible por 12\n",
      "216 es divisible por 12\n",
      "228 es divisible por 12\n",
      "240 es divisible por 12\n",
      "252 es divisible por 12\n",
      "264 es divisible por 12\n",
      "276 es divisible por 12\n",
      "288 es divisible por 12\n",
      "300 es divisible por 12\n"
     ]
    }
   ],
   "source": [
    "n = 99\n",
    "while (n<=300):\n",
    "    n += 1\n",
    "    if (n % 12 != 0):\n",
    "        continue\n",
    "    print(n, 'es divisible por 12')"
   ]
  },
  {
   "attachments": {},
   "cell_type": "markdown",
   "metadata": {},
   "source": [
    "14 -Utilizar la función input() que permite hacer ingresos por teclado, para encontrar números primos y dar la opción al usario de buscar el siguiente"
   ]
  },
  {
   "cell_type": "code",
   "execution_count": 20,
   "metadata": {},
   "outputs": [
    {
     "name": "stdout",
     "output_type": "stream",
     "text": [
      "1\n",
      "Desea encontrar el sig numero primo?\n",
      "Se finaliza el procedimiento\n"
     ]
    }
   ],
   "source": [
    "n = 1\n",
    "sigue = 1\n",
    "primo = True\n",
    "while (sigue == 1):\n",
    "    for div in range(2, n):\n",
    "        if (n%div == 0):\n",
    "            primo = False\n",
    "            break\n",
    "    if (primo):\n",
    "        print(n)\n",
    "        print('Desea encontrar el sig numero primo?')\n",
    "        if (input() != '1'):\n",
    "            print('Se finaliza el procedimiento')\n",
    "            break\n",
    "    else:\n",
    "        primo = True\n",
    "    n += 1"
   ]
  },
  {
   "attachments": {},
   "cell_type": "markdown",
   "metadata": {},
   "source": [
    "15 - Crear un ciclo while que encuentre dentro del rango de 100 a 300 el primer número divisible por 3 y además múltiplo de 6"
   ]
  },
  {
   "cell_type": "code",
   "execution_count": 28,
   "metadata": {},
   "outputs": [
    {
     "name": "stdout",
     "output_type": "stream",
     "text": [
      "100\n",
      "101\n",
      "102\n",
      "El numero  102 es divisible por 3 y multiplo de 6\n"
     ]
    }
   ],
   "source": [
    "n = 100\n",
    "div = 3\n",
    "mult = 6\n",
    "while (n<=300):\n",
    "    #print(n)\n",
    "    if (n % div == 0) and (n % 6 == 0):\n",
    "        print('El numero ', n, 'es divisible por 3 y multiplo de 6') \n",
    "        break\n",
    "    else:\n",
    "        n += 1\n"
   ]
  }
 ],
 "metadata": {
  "kernelspec": {
   "display_name": "Python 3.10.7 64-bit",
   "language": "python",
   "name": "python3"
  },
  "language_info": {
   "codemirror_mode": {
    "name": "ipython",
    "version": 3
   },
   "file_extension": ".py",
   "mimetype": "text/x-python",
   "name": "python",
   "nbconvert_exporter": "python",
   "pygments_lexer": "ipython3",
   "version": "3.10.7"
  },
  "orig_nbformat": 4,
  "vscode": {
   "interpreter": {
    "hash": "036c2200d9a9bb649c754637305aee5ee72c7b80cf4b652fcf35163ef0735521"
   }
  }
 },
 "nbformat": 4,
 "nbformat_minor": 2
}
