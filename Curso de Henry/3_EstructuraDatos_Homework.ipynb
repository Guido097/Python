{
 "cells": [
  {
   "attachments": {},
   "cell_type": "markdown",
   "metadata": {},
   "source": [
    "1- Crear una lista que contenga nombres de ciudades del mundo que contenga más de 5 elementos e imprimir por pantalla"
   ]
  },
  {
   "cell_type": "code",
   "execution_count": 2,
   "metadata": {},
   "outputs": [
    {
     "name": "stdout",
     "output_type": "stream",
     "text": [
      "['Cordoba', 'Madrid', 'Amsterdam', 'Lyon', 'Vancouver']\n"
     ]
    }
   ],
   "source": [
    "algunas_ciudades = ['Cordoba','Madrid','Amsterdam','Lyon','Vancouver']\n",
    "print(algunas_ciudades)"
   ]
  },
  {
   "attachments": {},
   "cell_type": "markdown",
   "metadata": {},
   "source": [
    "2-Imprimir por pantalla el segundo elemento de la lista"
   ]
  },
  {
   "cell_type": "code",
   "execution_count": 3,
   "metadata": {},
   "outputs": [
    {
     "name": "stdout",
     "output_type": "stream",
     "text": [
      "Madrid\n"
     ]
    }
   ],
   "source": [
    "print(algunas_ciudades[1])"
   ]
  },
  {
   "attachments": {},
   "cell_type": "markdown",
   "metadata": {},
   "source": [
    "3-Imprimir por pantalla del segundo al cuarto elemento"
   ]
  },
  {
   "cell_type": "code",
   "execution_count": 4,
   "metadata": {},
   "outputs": [
    {
     "name": "stdout",
     "output_type": "stream",
     "text": [
      "['Madrid', 'Amsterdam', 'Lyon']\n"
     ]
    }
   ],
   "source": [
    "print(algunas_ciudades[1:4])"
   ]
  },
  {
   "attachments": {},
   "cell_type": "markdown",
   "metadata": {},
   "source": [
    "4-Visualizar el tipo de dato de la lista"
   ]
  },
  {
   "cell_type": "code",
   "execution_count": 5,
   "metadata": {},
   "outputs": [
    {
     "name": "stdout",
     "output_type": "stream",
     "text": [
      "<class 'list'>\n"
     ]
    }
   ],
   "source": [
    "print(type(algunas_ciudades))"
   ]
  },
  {
   "attachments": {},
   "cell_type": "markdown",
   "metadata": {},
   "source": [
    "5-Visualizar todos los elementos de la lista a partir del tercero de manera genérica, es decir, sin explicitar la posición del último elemento"
   ]
  },
  {
   "cell_type": "code",
   "execution_count": 6,
   "metadata": {},
   "outputs": [
    {
     "data": {
      "text/plain": [
       "['Amsterdam', 'Lyon', 'Vancouver']"
      ]
     },
     "execution_count": 6,
     "metadata": {},
     "output_type": "execute_result"
    }
   ],
   "source": [
    "(algunas_ciudades[-3:])"
   ]
  },
  {
   "attachments": {},
   "cell_type": "markdown",
   "metadata": {},
   "source": [
    "6-Visualizar los primeros 4 elementos de la lista"
   ]
  },
  {
   "cell_type": "code",
   "execution_count": 7,
   "metadata": {},
   "outputs": [
    {
     "data": {
      "text/plain": [
       "['Cordoba', 'Madrid', 'Amsterdam', 'Lyon']"
      ]
     },
     "execution_count": 7,
     "metadata": {},
     "output_type": "execute_result"
    }
   ],
   "source": [
    "algunas_ciudades[:4]"
   ]
  },
  {
   "attachments": {},
   "cell_type": "markdown",
   "metadata": {},
   "source": [
    "7-Agregar una ciudad más a la lista que ya exista y otra que no ¿Arroja algún tipo de error?"
   ]
  },
  {
   "cell_type": "code",
   "execution_count": 8,
   "metadata": {},
   "outputs": [
    {
     "name": "stdout",
     "output_type": "stream",
     "text": [
      "['Cordoba', 'Madrid', 'Amsterdam', 'Lyon', 'Vancouver', 'Amsterdam', 'Estocolmo']\n",
      "no da error\n"
     ]
    }
   ],
   "source": [
    "#print(algunas_ciudades)\n",
    "algunas_ciudades.append('Amsterdam')\n",
    "algunas_ciudades.append('Estocolmo')\n",
    "print(algunas_ciudades)\n",
    "#print(type(algunas_ciudades[-1]))\n",
    "print('no da error')"
   ]
  },
  {
   "attachments": {},
   "cell_type": "markdown",
   "metadata": {},
   "source": [
    "8-Agregar otra ciudad, pero en la cuarta posición"
   ]
  },
  {
   "cell_type": "code",
   "execution_count": 9,
   "metadata": {},
   "outputs": [
    {
     "name": "stdout",
     "output_type": "stream",
     "text": [
      "['Cordoba', 'Madrid', 'Amsterdam', 'Tokio', 'Lyon', 'Vancouver', 'Amsterdam', 'Estocolmo']\n"
     ]
    }
   ],
   "source": [
    "algunas_ciudades.insert(3,'Tokio')\n",
    "print(algunas_ciudades)"
   ]
  },
  {
   "attachments": {},
   "cell_type": "markdown",
   "metadata": {},
   "source": [
    "9-Concatenar otra lista a la ya creada"
   ]
  },
  {
   "cell_type": "code",
   "execution_count": 10,
   "metadata": {},
   "outputs": [
    {
     "name": "stdout",
     "output_type": "stream",
     "text": [
      "['Cordoba', 'Madrid', 'Amsterdam', 'Tokio', 'Lyon', 'Vancouver', 'Amsterdam', 'Estocolmo', 'New Jersey', 'Chicago', 'Los Angeles', 'Texas', 'Phoenix']\n"
     ]
    }
   ],
   "source": [
    "otras_ciudades = ['New Jersey','Chicago','Los Angeles','Texas','Phoenix']\n",
    "muchas_ciudades = algunas_ciudades + otras_ciudades\n",
    "print(muchas_ciudades)"
   ]
  },
  {
   "attachments": {},
   "cell_type": "markdown",
   "metadata": {},
   "source": [
    "10-Encontrar el índice de la ciudad que en el punto 7 agregamos duplicada. ¿Se nota alguna particularidad?"
   ]
  },
  {
   "cell_type": "code",
   "execution_count": 11,
   "metadata": {},
   "outputs": [
    {
     "name": "stdout",
     "output_type": "stream",
     "text": [
      "2\n",
      "Se imprime el indice del primer dato coincidente, y no asi el segundo\n"
     ]
    }
   ],
   "source": [
    "print(muchas_ciudades.index('Amsterdam'))\n",
    "print('Se imprime el indice del primer dato coincidente, y no asi el segundo')"
   ]
  },
  {
   "attachments": {},
   "cell_type": "markdown",
   "metadata": {},
   "source": [
    "11-¿Qué pasa si se busca un elemento que no existe?"
   ]
  },
  {
   "cell_type": "code",
   "execution_count": 12,
   "metadata": {},
   "outputs": [
    {
     "ename": "ValueError",
     "evalue": "'Ushuaia' is not in list",
     "output_type": "error",
     "traceback": [
      "\u001b[1;31m---------------------------------------------------------------------------\u001b[0m",
      "\u001b[1;31mValueError\u001b[0m                                Traceback (most recent call last)",
      "\u001b[1;32mc:\\Users\\Maverick\\Desktop\\Curso de Python\\Python\\Curso de Henry\\3_EstructuraDatos_Homework.ipynb Cell 22\u001b[0m in \u001b[0;36m1\n\u001b[1;32m----> <a href='vscode-notebook-cell:/c%3A/Users/Maverick/Desktop/Curso%20de%20Python/Python/Curso%20de%20Henry/3_EstructuraDatos_Homework.ipynb#X30sZmlsZQ%3D%3D?line=0'>1</a>\u001b[0m \u001b[39mprint\u001b[39m(muchas_ciudades\u001b[39m.\u001b[39;49mindex(\u001b[39m'\u001b[39;49m\u001b[39mUshuaia\u001b[39;49m\u001b[39m'\u001b[39;49m))\n",
      "\u001b[1;31mValueError\u001b[0m: 'Ushuaia' is not in list"
     ]
    }
   ],
   "source": [
    "print(muchas_ciudades.index('Ushuaia'))"
   ]
  },
  {
   "attachments": {},
   "cell_type": "markdown",
   "metadata": {},
   "source": [
    "12-Eliminar un elemento de la lista"
   ]
  },
  {
   "cell_type": "code",
   "execution_count": 13,
   "metadata": {},
   "outputs": [
    {
     "name": "stdout",
     "output_type": "stream",
     "text": [
      "['Cordoba', 'Madrid', 'Tokio', 'Lyon', 'Vancouver', 'Amsterdam', 'Estocolmo', 'New Jersey', 'Chicago', 'Los Angeles', 'Texas', 'Phoenix']\n",
      "se elimina el primer objeto de la lista coincidente\n"
     ]
    }
   ],
   "source": [
    "muchas_ciudades.remove('Amsterdam')\n",
    "print(muchas_ciudades)\n",
    "print('se elimina el primer objeto de la lista coincidente')"
   ]
  },
  {
   "attachments": {},
   "cell_type": "markdown",
   "metadata": {},
   "source": [
    "13-¿Qué pasa si el elemento a eliminar no existe?"
   ]
  },
  {
   "cell_type": "code",
   "execution_count": 14,
   "metadata": {},
   "outputs": [
    {
     "ename": "ValueError",
     "evalue": "list.remove(x): x not in list",
     "output_type": "error",
     "traceback": [
      "\u001b[1;31m---------------------------------------------------------------------------\u001b[0m",
      "\u001b[1;31mValueError\u001b[0m                                Traceback (most recent call last)",
      "\u001b[1;32mc:\\Users\\Maverick\\Desktop\\Curso de Python\\Python\\Curso de Henry\\3_EstructuraDatos_Homework.ipynb Cell 26\u001b[0m in \u001b[0;36m1\n\u001b[1;32m----> <a href='vscode-notebook-cell:/c%3A/Users/Maverick/Desktop/Curso%20de%20Python/Python/Curso%20de%20Henry/3_EstructuraDatos_Homework.ipynb#X34sZmlsZQ%3D%3D?line=0'>1</a>\u001b[0m muchas_ciudades\u001b[39m.\u001b[39;49mremove(\u001b[39m'\u001b[39;49m\u001b[39mChaco\u001b[39;49m\u001b[39m'\u001b[39;49m)\n\u001b[0;32m      <a href='vscode-notebook-cell:/c%3A/Users/Maverick/Desktop/Curso%20de%20Python/Python/Curso%20de%20Henry/3_EstructuraDatos_Homework.ipynb#X34sZmlsZQ%3D%3D?line=1'>2</a>\u001b[0m \u001b[39mprint\u001b[39m(muchas_ciudades)\n",
      "\u001b[1;31mValueError\u001b[0m: list.remove(x): x not in list"
     ]
    }
   ],
   "source": [
    "muchas_ciudades.remove('Chaco')\n",
    "print(muchas_ciudades)"
   ]
  },
  {
   "attachments": {},
   "cell_type": "markdown",
   "metadata": {},
   "source": [
    "14-Extraer el úlimo elemento de la lista, guardarlo en una variable e imprimirlo"
   ]
  },
  {
   "cell_type": "code",
   "execution_count": 15,
   "metadata": {},
   "outputs": [
    {
     "name": "stdout",
     "output_type": "stream",
     "text": [
      "Phoenix\n"
     ]
    }
   ],
   "source": [
    "variable = muchas_ciudades[-1]\n",
    "print(variable)"
   ]
  },
  {
   "attachments": {},
   "cell_type": "markdown",
   "metadata": {},
   "source": [
    "15-Mostrar la lista multiplicada por 4"
   ]
  },
  {
   "cell_type": "code",
   "execution_count": 16,
   "metadata": {},
   "outputs": [
    {
     "name": "stdout",
     "output_type": "stream",
     "text": [
      "['Cordoba', 'Madrid', 'Tokio', 'Lyon', 'Vancouver', 'Amsterdam', 'Estocolmo', 'New Jersey', 'Chicago', 'Los Angeles', 'Texas', 'Phoenix', 'Cordoba', 'Madrid', 'Tokio', 'Lyon', 'Vancouver', 'Amsterdam', 'Estocolmo', 'New Jersey', 'Chicago', 'Los Angeles', 'Texas', 'Phoenix', 'Cordoba', 'Madrid', 'Tokio', 'Lyon', 'Vancouver', 'Amsterdam', 'Estocolmo', 'New Jersey', 'Chicago', 'Los Angeles', 'Texas', 'Phoenix', 'Cordoba', 'Madrid', 'Tokio', 'Lyon', 'Vancouver', 'Amsterdam', 'Estocolmo', 'New Jersey', 'Chicago', 'Los Angeles', 'Texas', 'Phoenix']\n"
     ]
    }
   ],
   "source": [
    "print(muchas_ciudades*4)"
   ]
  },
  {
   "attachments": {},
   "cell_type": "markdown",
   "metadata": {},
   "source": [
    "16-Crear una tupla que contenga los números enteros del 1 al 20"
   ]
  },
  {
   "cell_type": "code",
   "execution_count": 17,
   "metadata": {},
   "outputs": [
    {
     "name": "stdout",
     "output_type": "stream",
     "text": [
      "(0, 1, 2, 3, 4, 5, 6, 7, 8, 9, 10, 11, 12, 13, 14, 15, 16, 17, 18, 19, 20)\n"
     ]
    }
   ],
   "source": [
    "tupla = tuple(list(range(21)))\n",
    "print(tupla)\n"
   ]
  },
  {
   "attachments": {},
   "cell_type": "markdown",
   "metadata": {},
   "source": [
    "17-Imprimir desde el índice 10 al 15 de la tupla"
   ]
  },
  {
   "cell_type": "code",
   "execution_count": 18,
   "metadata": {},
   "outputs": [
    {
     "name": "stdout",
     "output_type": "stream",
     "text": [
      "(10, 11, 12, 13, 14, 15)\n"
     ]
    }
   ],
   "source": [
    "print(tupla[10:16])"
   ]
  },
  {
   "attachments": {},
   "cell_type": "markdown",
   "metadata": {},
   "source": [
    "18- Evaluar si los números 20 y 30 están dentro de la tupla"
   ]
  },
  {
   "cell_type": "code",
   "execution_count": 22,
   "metadata": {},
   "outputs": [
    {
     "name": "stdout",
     "output_type": "stream",
     "text": [
      "el valor 20 esta en la tupla\n",
      "el valor 30 no esta en la tupla\n"
     ]
    }
   ],
   "source": [
    "if 20 in tupla:\n",
    "    print(\"el valor 20 esta en la tupla\")\n",
    "else:\n",
    "    print('el valor 20 no esta en la tupla')\n",
    "\n",
    "if 30 in tupla:\n",
    "    print(\"el valor 30 esta en la tupla\")\n",
    "else:\n",
    "    print('el valor 30 no esta en la tupla')"
   ]
  },
  {
   "attachments": {},
   "cell_type": "markdown",
   "metadata": {},
   "source": [
    "19-Con la lista creada en el punto 1, validar la existencia del elemento 'París' y si no existe, agregarlo. Utilizar una variable e informar lo sucedido."
   ]
  },
  {
   "cell_type": "code",
   "execution_count": 23,
   "metadata": {},
   "outputs": [
    {
     "data": {
      "text/plain": [
       "['Cordoba',\n",
       " 'Madrid',\n",
       " 'Tokio',\n",
       " 'Lyon',\n",
       " 'Vancouver',\n",
       " 'Amsterdam',\n",
       " 'Estocolmo',\n",
       " 'New Jersey',\n",
       " 'Chicago',\n",
       " 'Los Angeles',\n",
       " 'Texas',\n",
       " 'Phoenix']"
      ]
     },
     "execution_count": 23,
     "metadata": {},
     "output_type": "execute_result"
    }
   ],
   "source": [
    "muchas_ciudades"
   ]
  },
  {
   "cell_type": "code",
   "execution_count": 25,
   "metadata": {},
   "outputs": [
    {
     "name": "stdout",
     "output_type": "stream",
     "text": [
      "Se inserto el elemento  Paris\n"
     ]
    }
   ],
   "source": [
    "una_mas = 'Paris'\n",
    "if (not(una_mas) in muchas_ciudades):\n",
    "    muchas_ciudades.append(una_mas)\n",
    "    print('Se inserto el elemento ', una_mas)\n",
    "else:\n",
    "    print('El elemento ', una_mas, ' ya se encuentra en la lista')\n"
   ]
  },
  {
   "attachments": {},
   "cell_type": "markdown",
   "metadata": {},
   "source": [
    "20-Mostrar la cantidad de veces que se encuentra un elemento específico dentro de la tupla y de la lista"
   ]
  },
  {
   "cell_type": "code",
   "execution_count": 30,
   "metadata": {},
   "outputs": [
    {
     "data": {
      "text/plain": [
       "1"
      ]
     },
     "execution_count": 30,
     "metadata": {},
     "output_type": "execute_result"
    }
   ],
   "source": [
    "muchas_ciudades.count('Chicago')"
   ]
  },
  {
   "cell_type": "code",
   "execution_count": 31,
   "metadata": {},
   "outputs": [
    {
     "data": {
      "text/plain": [
       "1"
      ]
     },
     "execution_count": 31,
     "metadata": {},
     "output_type": "execute_result"
    }
   ],
   "source": [
    "tupla.count(10)"
   ]
  },
  {
   "attachments": {},
   "cell_type": "markdown",
   "metadata": {},
   "source": [
    "21-Convertir la tupla en una lista"
   ]
  },
  {
   "cell_type": "code",
   "execution_count": 33,
   "metadata": {},
   "outputs": [
    {
     "name": "stdout",
     "output_type": "stream",
     "text": [
      "[0, 1, 2, 3, 4, 5, 6, 7, 8, 9, 10, 11, 12, 13, 14, 15, 16, 17, 18, 19, 20]\n"
     ]
    }
   ],
   "source": [
    "mi_lista = list(tupla)\n",
    "print(mi_lista)"
   ]
  },
  {
   "attachments": {},
   "cell_type": "markdown",
   "metadata": {},
   "source": [
    "22-Desempaquetar solo los primeros 3 elementos de la tupla en 3 variables"
   ]
  },
  {
   "cell_type": "code",
   "execution_count": 37,
   "metadata": {},
   "outputs": [
    {
     "name": "stdout",
     "output_type": "stream",
     "text": [
      "0\n",
      "1\n",
      "2\n"
     ]
    }
   ],
   "source": [
    "a, b, c = tupla[:3]\n",
    "print(a)\n",
    "print(b)\n",
    "print(c)"
   ]
  },
  {
   "attachments": {},
   "cell_type": "markdown",
   "metadata": {},
   "source": [
    "23-Crear un diccionario utilizando la lista crada en el punto 1, asignandole la clave \"ciudad\". Agregar tambien otras claves, como puede ser \"Pais\" y \"Continente\"."
   ]
  },
  {
   "cell_type": "code",
   "execution_count": 44,
   "metadata": {},
   "outputs": [],
   "source": [
    "muchos_paises = ['Brasil','Australia','Escocia','EEUU','Irak']\n",
    "muchos_continentes = ['America','Oceania','Asia','Europa','Africa']"
   ]
  },
  {
   "cell_type": "code",
   "execution_count": 51,
   "metadata": {},
   "outputs": [
    {
     "name": "stdout",
     "output_type": "stream",
     "text": [
      "{'Ciudades': ['Cordoba', 'Madrid', 'Tokio', 'Lyon', 'Vancouver', 'Amsterdam', 'Estocolmo', 'New Jersey', 'Chicago', 'Los Angeles', 'Texas', 'Phoenix', 'Paris'], 'Paises': ['Brasil', 'Australia', 'Escocia', 'EEUU', 'Irak'], 'Continente': ['America', 'Oceania', 'Asia', 'Europa', 'Africa']}\n"
     ]
    }
   ],
   "source": [
    "dicc = {'Ciudades': muchas_ciudades,\n",
    "        'Paises': muchos_paises,\n",
    "        'Continente' : muchos_continentes}\n",
    "print(dicc)"
   ]
  },
  {
   "attachments": {},
   "cell_type": "markdown",
   "metadata": {},
   "source": [
    "24-Imprimir las claves del diccionario"
   ]
  },
  {
   "cell_type": "code",
   "execution_count": 52,
   "metadata": {},
   "outputs": [
    {
     "name": "stdout",
     "output_type": "stream",
     "text": [
      "dict_keys(['Ciudades', 'Paises', 'Continente'])\n"
     ]
    }
   ],
   "source": [
    "print(dicc.keys())"
   ]
  },
  {
   "attachments": {},
   "cell_type": "markdown",
   "metadata": {},
   "source": [
    "25-Imprimir las ciudades a través de su clave"
   ]
  },
  {
   "cell_type": "code",
   "execution_count": 53,
   "metadata": {},
   "outputs": [
    {
     "name": "stdout",
     "output_type": "stream",
     "text": [
      "['Brasil', 'Australia', 'Escocia', 'EEUU', 'Irak']\n"
     ]
    }
   ],
   "source": [
    "print(dicc['Paises'])"
   ]
  }
 ],
 "metadata": {
  "kernelspec": {
   "display_name": "Python 3",
   "language": "python",
   "name": "python3"
  },
  "language_info": {
   "codemirror_mode": {
    "name": "ipython",
    "version": 3
   },
   "file_extension": ".py",
   "mimetype": "text/x-python",
   "name": "python",
   "nbconvert_exporter": "python",
   "pygments_lexer": "ipython3",
   "version": "3.10.7"
  },
  "orig_nbformat": 4
 },
 "nbformat": 4,
 "nbformat_minor": 2
}
