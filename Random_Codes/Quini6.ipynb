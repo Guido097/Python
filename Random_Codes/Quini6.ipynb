{
 "cells": [
  {
   "cell_type": "code",
   "execution_count": null,
   "metadata": {},
   "outputs": [],
   "source": [
    "from random import randint, random, uniform\n",
    "a = randint(00,45)\n",
    "b = randint(00,45)\n",
    "c = randint(00,45)\n",
    "d = randint(00,45)\n",
    "e = randint(00,45)\n",
    "f = randint(00,45)\n",
    "print(a,b,c,d,e,f)"
   ]
  }
 ],
 "metadata": {
  "kernelspec": {
   "display_name": "Python 3.10.7 64-bit",
   "language": "python",
   "name": "python3"
  },
  "language_info": {
   "name": "python",
   "version": "3.10.7"
  },
  "orig_nbformat": 4,
  "vscode": {
   "interpreter": {
    "hash": "036c2200d9a9bb649c754637305aee5ee72c7b80cf4b652fcf35163ef0735521"
   }
  }
 },
 "nbformat": 4,
 "nbformat_minor": 2
}
